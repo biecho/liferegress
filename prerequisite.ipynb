{
 "cells": [
  {
   "cell_type": "code",
   "execution_count": 4,
   "metadata": {
    "collapsed": true,
    "ExecuteTime": {
     "end_time": "2023-08-12T19:18:23.989577Z",
     "start_time": "2023-08-12T19:18:23.984693Z"
    }
   },
   "outputs": [
    {
     "name": "stdout",
     "output_type": "stream",
     "text": [
      "[array([False, False,  True, False, False,  True,  True])]\n",
      "[20 11 25]\n"
     ]
    }
   ],
   "source": [
    "import numpy as np\n",
    "a = np.array([1, 7, 20, 10, 4, 11, 25])\n",
    "print([a>10])\n",
    "print(a[a>10])\n"
   ]
  },
  {
   "cell_type": "code",
   "execution_count": 6,
   "outputs": [
    {
     "data": {
      "text/plain": "array([[3, 2, 5],\n       [1, 6, 7]])"
     },
     "execution_count": 6,
     "metadata": {},
     "output_type": "execute_result"
    }
   ],
   "source": [
    "x = np.array([[3,2,5],[1,6,7]])\n",
    "x"
   ],
   "metadata": {
    "collapsed": false,
    "ExecuteTime": {
     "end_time": "2023-08-12T19:19:36.833490Z",
     "start_time": "2023-08-12T19:19:36.821405Z"
    }
   }
  },
  {
   "cell_type": "code",
   "execution_count": 7,
   "outputs": [
    {
     "data": {
      "text/plain": "3"
     },
     "execution_count": 7,
     "metadata": {},
     "output_type": "execute_result"
    }
   ],
   "source": [
    "x[0][0]\n"
   ],
   "metadata": {
    "collapsed": false,
    "ExecuteTime": {
     "end_time": "2023-08-12T19:20:10.752389Z",
     "start_time": "2023-08-12T19:20:10.685112Z"
    }
   }
  },
  {
   "cell_type": "code",
   "execution_count": 8,
   "outputs": [
    {
     "data": {
      "text/plain": "array([ 2,  4,  6,  8, 10])"
     },
     "execution_count": 8,
     "metadata": {},
     "output_type": "execute_result"
    }
   ],
   "source": [
    "np.array([1,2,3,4,5]) * 2\n"
   ],
   "metadata": {
    "collapsed": false,
    "ExecuteTime": {
     "end_time": "2023-08-12T19:20:29.556161Z",
     "start_time": "2023-08-12T19:20:29.550570Z"
    }
   }
  },
  {
   "cell_type": "code",
   "execution_count": 9,
   "outputs": [
    {
     "data": {
      "text/plain": "[1, 2, 3, 4, 5, 1, 2, 3, 4, 5]"
     },
     "execution_count": 9,
     "metadata": {},
     "output_type": "execute_result"
    }
   ],
   "source": [
    "[1,2,3,4,5] * 2\n"
   ],
   "metadata": {
    "collapsed": false,
    "ExecuteTime": {
     "end_time": "2023-08-12T19:20:48.802403Z",
     "start_time": "2023-08-12T19:20:48.775871Z"
    }
   }
  },
  {
   "cell_type": "code",
   "execution_count": 12,
   "outputs": [
    {
     "name": "stdout",
     "output_type": "stream",
     "text": [
      "Index(['infant'], dtype='object')\n"
     ]
    }
   ],
   "source": [
    "#load the dataset\n",
    "import statsmodels.api as sm\n",
    "demog_dataset = sm.datasets.get_rdataset(dataname = \"Leinhardt\",package = \"carData\")\n",
    "demog = demog_dataset.data\n",
    "#retrieve information about the dataset\n",
    "# print(demog_dataset.__doc__)\n",
    "null_columns = demog.columns[demog.isnull().any()]\n",
    "print(null_columns)\n",
    "\n"
   ],
   "metadata": {
    "collapsed": false,
    "ExecuteTime": {
     "end_time": "2023-08-12T20:05:44.990113Z",
     "start_time": "2023-08-12T20:05:44.621794Z"
    }
   }
  },
  {
   "cell_type": "code",
   "execution_count": 13,
   "outputs": [
    {
     "name": "stdout",
     "output_type": "stream",
     "text": [
      "998.07\n"
     ]
    }
   ],
   "source": [
    "mean_income = demog['income'].mean()\n",
    "rounded_mean_income = round(mean_income, 2)\n",
    "\n",
    "print(rounded_mean_income)\n"
   ],
   "metadata": {
    "collapsed": false,
    "ExecuteTime": {
     "end_time": "2023-08-12T20:06:20.077871Z",
     "start_time": "2023-08-12T20:06:20.071277Z"
    }
   }
  },
  {
   "cell_type": "code",
   "execution_count": 14,
   "outputs": [
    {
     "name": "stdout",
     "output_type": "stream",
     "text": [
      "9\n"
     ]
    }
   ],
   "source": [
    "oil_countries_count = len(demog[demog['oil'] == 'yes'])\n",
    "print(oil_countries_count)\n"
   ],
   "metadata": {
    "collapsed": false,
    "ExecuteTime": {
     "end_time": "2023-08-12T20:07:07.818868Z",
     "start_time": "2023-08-12T20:07:07.809012Z"
    }
   }
  },
  {
   "cell_type": "code",
   "execution_count": 32,
   "outputs": [
    {
     "data": {
      "text/plain": "True"
     },
     "execution_count": 32,
     "metadata": {},
     "output_type": "execute_result"
    }
   ],
   "source": [
    "contains_taiwan = 'Taiwan' in demog.index\n",
    "contains_taiwan"
   ],
   "metadata": {
    "collapsed": false,
    "ExecuteTime": {
     "end_time": "2023-08-12T20:16:26.506100Z",
     "start_time": "2023-08-12T20:16:26.455183Z"
    }
   }
  },
  {
   "cell_type": "code",
   "execution_count": null,
   "outputs": [],
   "source": [],
   "metadata": {
    "collapsed": false
   }
  }
 ],
 "metadata": {
  "kernelspec": {
   "display_name": "Python 3",
   "language": "python",
   "name": "python3"
  },
  "language_info": {
   "codemirror_mode": {
    "name": "ipython",
    "version": 2
   },
   "file_extension": ".py",
   "mimetype": "text/x-python",
   "name": "python",
   "nbconvert_exporter": "python",
   "pygments_lexer": "ipython2",
   "version": "2.7.6"
  }
 },
 "nbformat": 4,
 "nbformat_minor": 0
}
